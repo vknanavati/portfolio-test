{
 "cells": [
  {
   "cell_type": "code",
   "execution_count": null,
   "metadata": {},
   "outputs": [],
   "source": [
    "import pandas as pd\n",
    "import matplotlib.pyplot as plt\n",
    "import seaborn as sns\n",
    "\n",
    "pd.set_option('display.max_rows', None)\n",
    "df = pd.read_csv(\"Hostel_City_Ratings.csv\", index_col=[0])\n",
    "df.head()\n",
    "df_copy = df.copy()\n",
    "\n",
    "df_copy"
   ]
  },
  {
   "cell_type": "code",
   "execution_count": null,
   "metadata": {},
   "outputs": [],
   "source": [
    "df_test = df_copy.set_axis(['Security', 'Location', 'Staff', 'Atmosphere', 'Cleanliness', 'Value', 'Facilities'], axis=0, copy=True)"
   ]
  },
  {
   "cell_type": "code",
   "execution_count": null,
   "metadata": {},
   "outputs": [],
   "source": [
    "df_test.loc['Average']= df.mean()\n",
    "df_test"
   ]
  },
  {
   "cell_type": "code",
   "execution_count": null,
   "metadata": {},
   "outputs": [],
   "source": [
    "df_test = df_test.T.reset_index()\n",
    "df_test = df_test.set_axis(['Name', 'Security', 'Location', 'Staff', 'Atmosphere', 'Cleanliness', 'Value', 'Facilities', 'Average'], axis=1, copy=True)\n",
    "df_test"
   ]
  },
  {
   "cell_type": "code",
   "execution_count": null,
   "metadata": {},
   "outputs": [],
   "source": [
    "avg_graph = df_test.iloc[:, [0,8]].head(10)\n",
    "avg_graph = avg_graph.sort_values('Average', ascending=False)\n",
    "avg_graph"
   ]
  },
  {
   "cell_type": "code",
   "execution_count": null,
   "metadata": {},
   "outputs": [],
   "source": [
    "top_ten = avg_graph.sort_values(by= 'Average', ascending=False)[:10]\n",
    "\n",
    "fig_height = 2 + 0.5 * len(avg_graph)\n",
    "fig, ax = plt.subplots(figsize=(10,fig_height))\n",
    "\n",
    "ax.set_xlim(0,10)\n",
    "ax.set_xticks(range(0,11))\n",
    "\n",
    "ax.set_xticklabels(ax.get_xticks(), fontsize=12)\n",
    "ax.set_yticklabels(ax.get_yticklabels(), fontsize=12)\n",
    "\n",
    "sns.barplot(y=top_ten.Name, x=top_ten.Average, width=0.4)\n",
    "\n",
    "plt.title('Top Hostels', fontsize=16, fontweight='bold')\n",
    "\n",
    "plt.xlabel('Average Rating', fontsize=14, fontweight='bold')\n",
    "plt.ylabel('Hostel Name', fontsize=14, fontweight='bold')\n",
    "\n",
    "plt.savefig('static/graph1.png', bbox_inches='tight')\n",
    "\n",
    "plt.show()\n",
    "\n",
    "plt.close()"
   ]
  },
  {
   "cell_type": "code",
   "execution_count": null,
   "metadata": {},
   "outputs": [],
   "source": [
    "highest_security = df_test.iloc[:, [0,1]].head(10)\n",
    "highest_security = highest_security.sort_values('Security', ascending=False)\n",
    "print(highest_security)"
   ]
  },
  {
   "cell_type": "code",
   "execution_count": null,
   "metadata": {},
   "outputs": [],
   "source": [
    "top_security = highest_security.sort_values(by= 'Security', ascending=False)[:20]\n",
    "\n",
    "fig_height = 2 + 0.5 * len(top_security)\n",
    "fig, ax = plt.subplots(figsize=(10,fig_height))\n",
    "\n",
    "ax.set_xlim(0,10)\n",
    "ax.set_xticks(range(0,11))\n",
    "\n",
    "ax.set_xticklabels(ax.get_xticks(), fontsize=12)\n",
    "ax.set_yticklabels(ax.get_yticklabels(), fontsize=12)\n",
    "\n",
    "\n",
    "sns.barplot(y=top_security.Name, x=top_security.Security, width=0.4)\n",
    "\n",
    "plt.title('Best Security', fontsize=16, fontweight='bold')\n",
    "\n",
    "plt.xlabel('Rating', fontsize=14,fontweight='bold' )\n",
    "plt.ylabel('Hostel Name', fontsize=14, fontweight='bold')\n",
    "\n",
    "plt.savefig('static/graph2.png', bbox_inches='tight')\n",
    "\n",
    "plt.show()\n",
    "\n",
    "plt.close()"
   ]
  },
  {
   "cell_type": "code",
   "execution_count": null,
   "metadata": {},
   "outputs": [],
   "source": [
    "highest_location = df_test.iloc[:, [0,2]].head(10)\n",
    "highest_location = highest_location.sort_values('Location', ascending=False)\n",
    "print(highest_location)"
   ]
  },
  {
   "cell_type": "code",
   "execution_count": null,
   "metadata": {},
   "outputs": [],
   "source": [
    "top_location = highest_location.sort_values(by= 'Location', ascending=False)[:20]\n",
    "\n",
    "fig_height = 2 + 0.5 * len(top_location)\n",
    "fig, ax = plt.subplots(figsize=(10,fig_height))\n",
    "\n",
    "ax.set_xlim(0,10)\n",
    "ax.set_xticks(range(0,11))\n",
    "\n",
    "ax.set_xticklabels(ax.get_xticks(), fontsize=12)\n",
    "ax.set_yticklabels(ax.get_yticklabels(), fontsize=12)\n",
    "\n",
    "sns.barplot(y=top_location.Name, x=top_location.Location, width=0.4)\n",
    "\n",
    "plt.title('Best Location', fontsize=16, fontweight='bold')\n",
    "\n",
    "plt.xlabel('Rating', fontsize=14, fontweight='bold')\n",
    "plt.ylabel('Hostel Name', fontsize=14, fontweight='bold')\n",
    "\n",
    "plt.savefig('static/graph3.png', bbox_inches='tight')\n",
    "\n",
    "plt.show()\n",
    "\n",
    "plt.close()"
   ]
  },
  {
   "cell_type": "code",
   "execution_count": null,
   "metadata": {},
   "outputs": [],
   "source": [
    "highest_staff = df_test.iloc[:, [0,3]].head(10)\n",
    "highest_staff = highest_staff.sort_values('Staff', ascending=False)\n",
    "print(highest_staff)"
   ]
  },
  {
   "cell_type": "code",
   "execution_count": null,
   "metadata": {},
   "outputs": [],
   "source": [
    "top_staff = highest_staff.sort_values(by= 'Staff', ascending=False)[:20]\n",
    "\n",
    "fig_height = 2 + 0.5 * len(top_staff)\n",
    "fig, ax = plt.subplots(figsize=(10,fig_height))\n",
    "\n",
    "ax.set_xlim(0,10)\n",
    "ax.set_xticks(range(0,11))\n",
    "\n",
    "ax.set_xticklabels(ax.get_xticks(), fontsize=12)\n",
    "ax.set_yticklabels(ax.get_yticklabels(), fontsize=12)\n",
    "\n",
    "sns.barplot(y=top_staff.Name, x=top_staff.Staff, width=0.4)\n",
    "\n",
    "plt.title('Best Staff', fontsize=16, fontweight='bold')\n",
    "\n",
    "plt.xlabel('Rating', fontsize=14, fontweight='bold')\n",
    "plt.ylabel('Hostel Name', fontsize=14, fontweight='bold')\n",
    "\n",
    "plt.savefig('static/graph4.png', bbox_inches='tight')\n",
    "\n",
    "plt.show()\n",
    "\n",
    "plt.close()"
   ]
  },
  {
   "cell_type": "code",
   "execution_count": null,
   "metadata": {},
   "outputs": [],
   "source": [
    "highest_atmosphere = df_test.iloc[:, [0,4]].head(10)\n",
    "highest_atmosphere = highest_atmosphere.sort_values('Atmosphere', ascending=False)\n",
    "print(highest_atmosphere)"
   ]
  },
  {
   "cell_type": "code",
   "execution_count": null,
   "metadata": {},
   "outputs": [],
   "source": [
    "top_atmosphere = highest_atmosphere.sort_values(by= 'Atmosphere', ascending=False)[:20]\n",
    "\n",
    "fig_height = 2 + 0.5 * len(top_atmosphere)\n",
    "fig, ax = plt.subplots(figsize=(10,fig_height))\n",
    "\n",
    "ax.set_xlim(0,10)\n",
    "ax.set_xticks(range(0,11))\n",
    "\n",
    "ax.set_xticklabels(ax.get_xticks(), fontsize=12)\n",
    "ax.set_yticklabels(ax.get_yticklabels(), fontsize=12)\n",
    "\n",
    "sns.barplot(y=top_atmosphere.Name, x=top_atmosphere.Atmosphere, width=0.4)\n",
    "\n",
    "plt.title('Best Atmosphere', fontsize=16, fontweight='bold')\n",
    "\n",
    "plt.xlabel('Rating', fontsize=14, fontweight='bold')\n",
    "plt.ylabel('Hostel Name', fontsize=14, fontweight='bold')\n",
    "\n",
    "plt.savefig('static/graph5.png', bbox_inches='tight')\n",
    "\n",
    "plt.show()\n",
    "\n",
    "plt.close()"
   ]
  },
  {
   "cell_type": "code",
   "execution_count": null,
   "metadata": {},
   "outputs": [],
   "source": [
    "highest_clean = df_test.iloc[:, [0,5]].head(10)\n",
    "highest_clean = highest_clean.sort_values('Cleanliness', ascending=False)\n",
    "print(highest_clean)"
   ]
  },
  {
   "cell_type": "code",
   "execution_count": null,
   "metadata": {},
   "outputs": [],
   "source": [
    "top_clean = highest_clean.sort_values(by= 'Cleanliness', ascending=False)[:20]\n",
    "\n",
    "fig_height = 2 + 0.5 * len(top_clean)\n",
    "fig, ax = plt.subplots(figsize=(10,fig_height))\n",
    "\n",
    "ax.set_xlim(0,10)\n",
    "ax.set_xticks(range(0,11))\n",
    "\n",
    "ax.set_xticklabels(ax.get_xticks(), fontsize=12)\n",
    "ax.set_yticklabels(ax.get_yticklabels(), fontsize=12)\n",
    "\n",
    "sns.barplot(y=top_clean.Name, x=top_clean.Cleanliness, width=0.4)\n",
    "\n",
    "plt.title('Best Cleanliness', fontsize=16, fontweight='bold')\n",
    "\n",
    "plt.xlabel('Rating', fontsize=16, fontweight='bold')\n",
    "plt.ylabel('Hostel Name', fontsize=16, fontweight='bold')\n",
    "\n",
    "plt.savefig('static/graph6.png', bbox_inches='tight')\n",
    "\n",
    "plt.show()\n",
    "\n",
    "plt.close()"
   ]
  },
  {
   "cell_type": "code",
   "execution_count": null,
   "metadata": {},
   "outputs": [],
   "source": [
    "highest_value = df_test.iloc[:, [0,6]].head(10)\n",
    "highest_value = highest_value.sort_values('Value', ascending=False)\n",
    "print(highest_value)"
   ]
  },
  {
   "cell_type": "code",
   "execution_count": null,
   "metadata": {},
   "outputs": [],
   "source": [
    "top_value = highest_value.sort_values(by= 'Value', ascending=False)[:20]\n",
    "\n",
    "fig_height = 2 + 0.5 * len(top_value)\n",
    "fig, ax = plt.subplots(figsize=(10,fig_height))\n",
    "\n",
    "ax.set_xlim(0,10)\n",
    "ax.set_xticks(range(0,11))\n",
    "\n",
    "ax.set_xticklabels(ax.get_xticks(), fontsize=12)\n",
    "ax.set_yticklabels(ax.get_yticklabels(), fontsize=12)\n",
    "\n",
    "sns.barplot(y=top_value.Name, x=top_value.Value, width=0.4)\n",
    "\n",
    "plt.title('Best Value', fontsize=16, fontweight='bold')\n",
    "\n",
    "plt.xlabel('Rating', fontsize=14, fontweight='bold')\n",
    "plt.ylabel('Hostel Name', fontsize=14, fontweight='bold')\n",
    "\n",
    "plt.savefig('static/graph7.png', bbox_inches='tight')\n",
    "\n",
    "plt.show()\n",
    "\n",
    "plt.close()"
   ]
  },
  {
   "cell_type": "code",
   "execution_count": null,
   "metadata": {},
   "outputs": [],
   "source": [
    "highest_facility = df_test.iloc[:, [0,7]].head(10)\n",
    "highest_facility = highest_facility.sort_values('Facilities', ascending=False)\n",
    "print(highest_facility)"
   ]
  },
  {
   "cell_type": "code",
   "execution_count": null,
   "metadata": {},
   "outputs": [],
   "source": [
    "top_facility = highest_facility.sort_values(by= 'Facilities', ascending=False)[:20]\n",
    "\n",
    "fig_height = 2 + 0.5 * len(top_facility)\n",
    "fig, ax = plt.subplots(figsize=(10,fig_height))\n",
    "\n",
    "ax.set_xlim(0,10)\n",
    "ax.set_xticks(range(0,11))\n",
    "\n",
    "ax.set_xticklabels(ax.get_xticks(), fontsize=12)\n",
    "ax.set_yticklabels(ax.get_yticklabels(), fontsize=12)\n",
    "\n",
    "sns.barplot(y=top_facility.Name, x=top_facility.Facilities, width=0.4)\n",
    "\n",
    "plt.title('Best Facilities', fontsize=16, fontweight='bold')\n",
    "\n",
    "plt.xlabel('Rating', fontsize=14, fontweight='bold')\n",
    "plt.ylabel('Hostel Name', fontsize=14, fontweight='bold')\n",
    "\n",
    "plt.savefig('static/graph8.png', bbox_inches='tight')\n",
    "\n",
    "plt.show()\n",
    "\n",
    "plt.close()"
   ]
  }
 ],
 "metadata": {
  "language_info": {
   "name": "python"
  }
 },
 "nbformat": 4,
 "nbformat_minor": 2
}
